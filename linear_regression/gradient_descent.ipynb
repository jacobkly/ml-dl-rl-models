{
 "cells": [
  {
   "cell_type": "code",
   "execution_count": 1,
   "id": "c9530153-325a-4133-bd45-f7c3e3bf5ad2",
   "metadata": {},
   "outputs": [],
   "source": [
    "# import necessary libraries\n",
    "import numpy as np\n",
    "import pandas as pd\n",
    "import matplotlib.pyplot as plt\n",
    "import statsmodels.api as sm\n",
    "from sklearn.preprocessing import StandardScaler\n",
    "from sklearn.model_selection import train_test_split\n",
    "from sklearn.metrics import accuracy_score, mean_squared_error"
   ]
  },
  {
   "cell_type": "code",
   "execution_count": 2,
   "id": "c081f1e0-8e40-4025-b6e5-ab42a9f3a062",
   "metadata": {},
   "outputs": [],
   "source": [
    "# define the gradient descent function to minimize the cost function and fund optimal parameters\n",
    "def gradient_descent(X, y, learning_rate=0.01, iterations=100):\n",
    "    m, n = X.shape\n",
    "    theta = np.zeros((n, 1))\n",
    "    cost_history = np.zeros(iterations)\n",
    "    \n",
    "    for i in range(iterations):\n",
    "        prediction = np.dot(X, theta)\n",
    "        error = prediction - y\n",
    "        theta = theta - (1/m) * learning_rate * X.T.dot(error)\n",
    "        cost_history[i] = compute_cost(X, y, theta)\n",
    "    return theta, cost_history\n",
    "\n",
    "# define the function to compute the cost (mean squared error) for a given theta\n",
    "def compute_cost(X, y, theta):\n",
    "    m = len(y)\n",
    "    prediction = np.dot(X, theta)\n",
    "    cost = (1/(2*m)) * np.sum(np.square(prediction - y))\n",
    "    return cost    "
   ]
  },
  {
   "cell_type": "code",
   "execution_count": 3,
   "id": "ae9ead4a-41d7-4ee7-86dc-ac7f1d25b2c7",
   "metadata": {},
   "outputs": [
    {
     "name": "stdout",
     "output_type": "stream",
     "text": [
      "   Erythema  Scathing  Definite Borders  Itching  Koebner   Polygonal  \\\n",
      "0         2         2                 0        3         0          0   \n",
      "1         3         3                 3        2         1          0   \n",
      "2         2         1                 2        3         1          3   \n",
      "3         2         2                 2        0         0          0   \n",
      "4         2         3                 2        2         2          2   \n",
      "\n",
      "   Follicular  Oral  Knee  Scalp  ...  Disapperance  Vacuolisation  \\\n",
      "0           0     0     1      0  ...             0              0   \n",
      "1           0     0     1      1  ...             0              0   \n",
      "2           0     3     0      0  ...             0              2   \n",
      "3           0     0     3      2  ...             3              0   \n",
      "4           0     2     0      0  ...             2              3   \n",
      "\n",
      "   Spongiosis  Retes  Follicular.1  Perifollicular  Inflamatory  Band-like  \\\n",
      "0           3      0             0               0            1          0   \n",
      "1           0      0             0               0            1          0   \n",
      "2           3      2             0               0            2          3   \n",
      "3           0      0             0               0            3          0   \n",
      "4           2      3             0               0            2          3   \n",
      "\n",
      "   Age  Disease  \n",
      "0   55        2  \n",
      "1    8        1  \n",
      "2   26        3  \n",
      "3   40        1  \n",
      "4   45        3  \n",
      "\n",
      "[5 rows x 35 columns]\n"
     ]
    }
   ],
   "source": [
    "# load the dataset from a CSV file into a pandas DataFrame\n",
    "df = pd.read_csv('dermatology.csv', delimiter='\\t')\n",
    "\n",
    "# print first five rows\n",
    "print(df.head())"
   ]
  },
  {
   "cell_type": "code",
   "execution_count": 4,
   "id": "75fc77ba-748d-420c-8e47-26d1552f1a44",
   "metadata": {},
   "outputs": [],
   "source": [
    "# convert the 'Age' and 'Disease' columns to numeric\n",
    "df['Age'] = pd.to_numeric(df['Age'], errors='coerce')\n",
    "df['Disease'] = pd.to_numeric(df['Disease'], errors='coerce')\n",
    "\n",
    "# clean the dataset of missing or NaN values after converting 'Age' and 'Disease' columns to numeric\n",
    "df = df.dropna()\n",
    "\n",
    "# extract the independent (feature) variable\n",
    "# X = df['Age'].values.reshape(-1, 1)\n",
    "X = df.iloc[:, -2].values.reshape(-1, 1)\n",
    "\n",
    "# define the dependent (target) variable\n",
    "# y = df['Disease'].values.reshape(-1, 1)\n",
    "y = df.iloc[:, -1].values.reshape(-1, 1)\n",
    "\n",
    "# Originally, I needed to scale the feature to get a proper and expected cost history function.\n",
    "# However, after lowering the learning rate, the graph showed the cost decreasing as iterations increased.\n",
    "# scaler = StandardScaler()\n",
    "# X = scaler.fit_transform(X)\n",
    "\n",
    "# split the dataset 70-30\n",
    "X_train, X_test, y_train, y_test = train_test_split(X, y, test_size=0.30, random_state=42)"
   ]
  },
  {
   "cell_type": "code",
   "execution_count": 5,
   "id": "95b9929a-555f-4cde-82aa-9d0335ac8b08",
   "metadata": {},
   "outputs": [
    {
     "data": {
      "image/png": "[encoded data removed]",
      "text/plain": [
       "<Figure size 640x480 with 1 Axes>"
      ]
     },
     "metadata": {},
     "output_type": "display_data"
    }
   ],
   "source": [
    "# train the model using gradient descent to find the optimal parameters (theta)\n",
    "theta, cost_history = gradient_descent(X_train, y_train, learning_rate=0.001, iterations=100)\n",
    "\n",
    "# plot the cost history to visualize how the cost function decreases over iterations\n",
    "plt.plot(cost_history)\n",
    "plt.xlabel('Iteration')\n",
    "plt.ylabel('Cost')\n",
    "plt.title('Cost Function Over Iterations')\n",
    "plt.show()"
   ]
  },
  {
   "cell_type": "code",
   "execution_count": 6,
   "id": "7fd165d4-df57-44c7-863e-a1d312e99828",
   "metadata": {},
   "outputs": [
    {
     "name": "stdout",
     "output_type": "stream",
     "text": [
      "[[1.146545  ]\n",
      " [2.7758458 ]\n",
      " [2.11205658]\n",
      " [2.59481238]\n",
      " [0.48275579]]\n",
      "Accuracy Score: 0.25\n",
      "Mean Squared Error: 4.444444444444445\n"
     ]
    }
   ],
   "source": [
    "# make predictions on the test dataset\n",
    "predictions = np.dot(X_test, theta)\n",
    "\n",
    "# display first five predictions\n",
    "print(predictions[:5])\n",
    "\n",
    "# round predictions to the nearest integer for discrete disease types\n",
    "predictions = np.round(predictions).astype(int)\n",
    "\n",
    "# display first five predictions after rounding\n",
    "# print(predictions[:5])\n",
    "\n",
    "# calculate the number of correct predictions\n",
    "correct = np.where(predictions == y_test, 1, 0).sum()\n",
    "\n",
    "# print the accuracy score for the predictions\n",
    "print('Accuracy Score:', correct / len(y_test))\n",
    "\n",
    "mse = mean_squared_error(y_test, predictions)\n",
    "print(\"Mean Squared Error:\", mse)"
   ]
  }
 ],
 "metadata": {
  "kernelspec": {
   "display_name": "Python 3 (ipykernel)",
   "language": "python",
   "name": "python3"
  },
  "language_info": {
   "codemirror_mode": {
    "name": "ipython",
    "version": 3
   },
   "file_extension": ".py",
   "mimetype": "text/x-python",
   "name": "python",
   "nbconvert_exporter": "python",
   "pygments_lexer": "ipython3",
   "version": "3.12.7"
  }
 },
 "nbformat": 4,
 "nbformat_minor": 5
}
