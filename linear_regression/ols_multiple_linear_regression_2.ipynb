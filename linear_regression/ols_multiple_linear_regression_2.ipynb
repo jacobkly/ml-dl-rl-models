{
 "cells": [
  {
   "cell_type": "code",
   "execution_count": 1,
   "id": "ac3d4001-71a5-4b4c-95df-530ab750669f",
   "metadata": {},
   "outputs": [],
   "source": [
    "# import necessary libraries\n",
    "import numpy as np\n",
    "import pandas as pd\n",
    "import matplotlib.pyplot as plt\n",
    "import statsmodels.api as sm\n",
    "from sklearn.preprocessing import StandardScaler\n",
    "from sklearn.model_selection import train_test_split\n",
    "from sklearn.metrics import accuracy_score, mean_squared_error"
   ]
  },
  {
   "cell_type": "code",
   "execution_count": 2,
   "id": "ef16d881-7dbf-4087-b139-19df8a12b5b9",
   "metadata": {},
   "outputs": [
    {
     "name": "stdout",
     "output_type": "stream",
     "text": [
      "        state  median_household_income  share_unemployed_seasonal  \\\n",
      "0     Alabama                    42278                      0.060   \n",
      "1      Alaska                    67629                      0.064   \n",
      "2     Arizona                    49254                      0.063   \n",
      "3    Arkansas                    44922                      0.052   \n",
      "4  California                    60487                      0.059   \n",
      "\n",
      "   share_population_in_metro_areas  share_population_with_high_school_degree  \\\n",
      "0                             0.64                                     0.821   \n",
      "1                             0.63                                     0.914   \n",
      "2                             0.90                                     0.842   \n",
      "3                             0.69                                     0.824   \n",
      "4                             0.97                                     0.806   \n",
      "\n",
      "   share_non_citizen  share_white_poverty  gini_index  share_non_white  \\\n",
      "0               0.02                 0.12       0.472             0.35   \n",
      "1               0.04                 0.06       0.422             0.42   \n",
      "2               0.10                 0.09       0.455             0.49   \n",
      "3               0.04                 0.12       0.458             0.26   \n",
      "4               0.13                 0.09       0.471             0.61   \n",
      "\n",
      "   share_voters_voted_trump  hate_crimes_per_100k_splc  \\\n",
      "0                      0.63                   0.125839   \n",
      "1                      0.53                   0.143740   \n",
      "2                      0.50                   0.225320   \n",
      "3                      0.60                   0.069061   \n",
      "4                      0.33                   0.255805   \n",
      "\n",
      "   avg_hatecrimes_per_100k_fbi  \n",
      "0                     1.806410  \n",
      "1                     1.656700  \n",
      "2                     3.413928  \n",
      "3                     0.869209  \n",
      "4                     2.397986  \n"
     ]
    }
   ],
   "source": [
    "# load the dataset from a CSV file into a pandas DataFrame\n",
    "df = pd.read_csv('hatecrime.csv')\n",
    "\n",
    "# print the first five data entries\n",
    "print(df.head())"
   ]
  },
  {
   "cell_type": "code",
   "execution_count": 3,
   "id": "cbd93d97-1b74-4db1-bd21-4ad4c95941e8",
   "metadata": {},
   "outputs": [],
   "source": [
    "# clean the dataseet of missing or NaN values\n",
    "df = df.dropna()\n",
    "\n",
    "# define the independent (feature) variables\n",
    "X = df[['gini_index',\n",
    "        'share_unemployed_seasonal', \n",
    "        'share_voters_voted_trump', 'share_population_in_metro_areas',\n",
    "        'share_non_white']]\n",
    "\n",
    "# define the dependent (target) variable\n",
    "y = df['hate_crimes_per_100k_splc']"
   ]
  },
  {
   "cell_type": "code",
   "execution_count": 4,
   "id": "efd32063-2e47-4ecc-b7dd-d083688bd3ed",
   "metadata": {},
   "outputs": [
    {
     "name": "stdout",
     "output_type": "stream",
     "text": [
      "                                OLS Regression Results                               \n",
      "=====================================================================================\n",
      "Dep. Variable:     hate_crimes_per_100k_splc   R-squared:                       0.550\n",
      "Model:                                   OLS   Adj. R-squared:                  0.492\n",
      "Method:                        Least Squares   F-statistic:                     9.537\n",
      "Date:                       Sat, 15 Feb 2025   Prob (F-statistic):           5.29e-06\n",
      "Time:                               18:35:04   Log-Likelihood:                 16.728\n",
      "No. Observations:                         45   AIC:                            -21.46\n",
      "Df Residuals:                             39   BIC:                            -10.62\n",
      "Df Model:                                  5                                         \n",
      "Covariance Type:                   nonrobust                                         \n",
      "===================================================================================================\n",
      "                                      coef    std err          t      P>|t|      [0.025      0.975]\n",
      "---------------------------------------------------------------------------------------------------\n",
      "const                              -0.0364      0.763     -0.048      0.962      -1.579       1.507\n",
      "gini_index                          3.0380      1.709      1.777      0.083      -0.419       6.495\n",
      "share_unemployed_seasonal           3.7602      3.395      1.108      0.275      -3.107      10.627\n",
      "share_voters_voted_trump           -1.7034      0.293     -5.811      0.000      -2.296      -1.111\n",
      "share_population_in_metro_areas    -0.3088      0.230     -1.343      0.187      -0.774       0.156\n",
      "share_non_white                    -0.5470      0.271     -2.019      0.050      -1.095       0.001\n",
      "==============================================================================\n",
      "Omnibus:                        1.401   Durbin-Watson:                   1.724\n",
      "Prob(Omnibus):                  0.496   Jarque-Bera (JB):                0.593\n",
      "Skew:                           0.104   Prob(JB):                        0.743\n",
      "Kurtosis:                       3.523   Cond. No.                         190.\n",
      "==============================================================================\n",
      "\n",
      "Notes:\n",
      "[1] Standard Errors assume that the covariance matrix of the errors is correctly specified.\n",
      "const                             -0.036359\n",
      "gini_index                         3.037961\n",
      "share_unemployed_seasonal          3.760225\n",
      "share_voters_voted_trump          -1.703425\n",
      "share_population_in_metro_areas   -0.308776\n",
      "share_non_white                   -0.547002\n",
      "dtype: float64\n"
     ]
    }
   ],
   "source": [
    "# add a constant term to the independent variables 'X'\n",
    "X = sm.add_constant(X)\n",
    "\n",
    "# initialize and fit the multiple linear regression model using the Ordinary Least Squares (OLS) method\n",
    "model = sm.OLS(y, X).fit()\n",
    "\n",
    "# print the summary statistics of the fitted model\n",
    "print(model.summary())\n",
    "\n",
    "# print the coefficients of the fitted model\n",
    "print(model.params)"
   ]
  },
  {
   "cell_type": "code",
   "execution_count": 5,
   "id": "faa46857-897d-4d46-bb6f-8f0bf69a31da",
   "metadata": {},
   "outputs": [],
   "source": [
    "# # generate a meshgrid for the 3D plot with 100 evenly spaced points between the features\n",
    "# X_axis, Y_axis = np.meshgrid(\n",
    "#     np.linspace(X['median_household_income'].min(), X['median_household_income'].max(), 100), \n",
    "#     np.linspace(X['gini_index'].min(), X['gini_index'].max(), 100)  \n",
    "# )\n",
    "\n",
    "# # calculate the Z-axis values using the model's parameters\n",
    "# Z_axis = (\n",
    "#     model.params.iloc[0]  \n",
    "#     + model.params.iloc[1] * X_axis  \n",
    "#     + model.params.iloc[2] * Y_axis  \n",
    "# )\n",
    "\n",
    "# # initialize a 3D plot\n",
    "# fig = plt.figure(figsize=(12, 8))\n",
    "# ax = fig.add_subplot(111, projection='3d')\n",
    "\n",
    "# # plot the surface based on the meshgrid\n",
    "# ax.plot_surface(X_axis, Y_axis, Z_axis, cmap='coolwarm', alpha=0.5, linewidth=0, antialiased=False)\n",
    "\n",
    "# # add a scatter plot of the actual data points\n",
    "# ax.scatter(df['median_household_income'], df['gini_index'], df['hate_crimes_per_100k_splc'], color='red')\n",
    "\n",
    "# # label the axes to indicate what each axis represents\n",
    "# ax.set_xlabel('Median Household Income')\n",
    "# ax.set_ylabel('Gini Index')\n",
    "# ax.set_zlabel('Hate Crimes per 100,000 Population')\n",
    "\n",
    "# # add a title to the plot\n",
    "# ax.set_title('3D Plot of Median Household Income and Gini Index vs. Hate Crimes per 100,000 Population')\n",
    "\n",
    "# plt.show()"
   ]
  }
 ],
 "metadata": {
  "kernelspec": {
   "display_name": "Python 3 (ipykernel)",
   "language": "python",
   "name": "python3"
  },
  "language_info": {
   "codemirror_mode": {
    "name": "ipython",
    "version": 3
   },
   "file_extension": ".py",
   "mimetype": "text/x-python",
   "name": "python",
   "nbconvert_exporter": "python",
   "pygments_lexer": "ipython3",
   "version": "3.12.7"
  }
 },
 "nbformat": 4,
 "nbformat_minor": 5
}
