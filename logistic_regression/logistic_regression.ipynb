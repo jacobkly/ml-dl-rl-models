{
 "cells": [
  {
   "cell_type": "code",
   "execution_count": 1,
   "id": "2c8d6cd5-3c16-4ce0-8075-ac086df5f64e",
   "metadata": {},
   "outputs": [],
   "source": [
    "# import necessary libraries\n",
    "import pandas as pd  \n",
    "import statsmodels.api as sm \n",
    "from sklearn.model_selection import train_test_split \n",
    "from sklearn.metrics import accuracy_score, confusion_matrix  \n",
    "from sklearn.metrics import roc_curve, roc_auc_score  \n",
    "import matplotlib.pyplot as plt  "
   ]
  },
  {
   "cell_type": "code",
   "execution_count": 2,
   "id": "7de43a59-f1ad-4008-bc6a-15be87050ed3",
   "metadata": {},
   "outputs": [],
   "source": [
    "# load and prepare the dataset into a pandas DataFrame\n",
    "df = pd.read_csv('crash.csv', index_col='PassengerId')\n",
    "df.dropna(inplace=True)"
   ]
  },
  {
   "cell_type": "code",
   "execution_count": 3,
   "id": "00e45ec1-742b-453c-ac27-1e0ad2df9b55",
   "metadata": {},
   "outputs": [],
   "source": [
    "# define the independent (feature) variables\n",
    "X = df.drop(columns=['Survived']) \n",
    "\n",
    "# define the dependent (target) variable\n",
    "y = df['Survived']\n",
    "\n",
    "# split the dataset into 70% training and 30% testing\n",
    "X_train, X_test, y_train, y_test = train_test_split(X, y, test_size=0.30)"
   ]
  },
  {
   "cell_type": "code",
   "execution_count": 4,
   "id": "5f7d7a53-4bfb-45cb-a5f2-eca059bfbc5d",
   "metadata": {},
   "outputs": [
    {
     "name": "stdout",
     "output_type": "stream",
     "text": [
      "                           Logit Regression Results                           \n",
      "==============================================================================\n",
      "Dep. Variable:               Survived   No. Observations:                   14\n",
      "Model:                          Logit   Df Residuals:                       11\n",
      "Method:                           MLE   Df Model:                            2\n",
      "Date:                Thu, 13 Feb 2025   Pseudo R-squ.:                  0.4980\n",
      "Time:                        17:55:55   Log-Likelihood:                -4.8710\n",
      "converged:                       True   LL-Null:                       -9.7041\n",
      "Covariance Type:            nonrobust   LLR p-value:                  0.007962\n",
      "==============================================================================\n",
      "                 coef    std err          z      P>|z|      [0.025      0.975]\n",
      "------------------------------------------------------------------------------\n",
      "const          6.6814      4.755      1.405      0.160      -2.637      16.000\n",
      "Age            0.1225      0.099      1.243      0.214      -0.071       0.316\n",
      "Speed         -0.1535      0.091     -1.694      0.090      -0.331       0.024\n",
      "==============================================================================\n"
     ]
    }
   ],
   "source": [
    "# fit a Logistic Regression model with the training set\n",
    "model = sm.Logit(y_train, sm.add_constant(X_train)).fit(disp=False)\n",
    "\n",
    "# print the summary statistics of the model\n",
    "print(model.summary())"
   ]
  },
  {
   "cell_type": "code",
   "execution_count": 5,
   "id": "1192d660-386e-480f-b33b-c1420944c440",
   "metadata": {},
   "outputs": [
    {
     "name": "stdout",
     "output_type": "stream",
     "text": [
      "Accuracy Score: 0.8333333333333334\n",
      "Confusion Matrix:\n",
      " [[2 1]\n",
      " [0 3]]\n"
     ]
    }
   ],
   "source": [
    "# make predictions with the model\n",
    "predictions = model.predict(sm.add_constant(X_test))\n",
    "\n",
    "# convert probability to binary outcomes\n",
    "bin_preds = [1 if x >= 0.5 else 0 for x in predictions]\n",
    "\n",
    "# calculate and print the accuracy score\n",
    "accuracy = accuracy_score(y_test, bin_preds)\n",
    "print('Accuracy Score:', accuracy)\n",
    "\n",
    "# calculate and print the confusion matrix\n",
    "conf_mtx = confusion_matrix(y_test, bin_preds)\n",
    "print('Confusion Matrix:\\n', conf_mtx)"
   ]
  },
  {
   "cell_type": "code",
   "execution_count": 6,
   "id": "11c26ee3-e2c5-40ff-9b2f-69a733cc5a3e",
   "metadata": {},
   "outputs": [
    {
     "data": {
      "image/png": "[encoded data removed]",
      "text/plain": [
       "<Figure size 800x600 with 1 Axes>"
      ]
     },
     "metadata": {},
     "output_type": "display_data"
    }
   ],
   "source": [
    "# calculate and plot the ROC curve and AUC score\n",
    "fpr, tpr, thresholds = roc_curve(y_test, predictions)\n",
    "roc_auc = roc_auc_score(y_test, predictions)\n",
    "\n",
    "# plot the ROC curve\n",
    "plt.figure(figsize=(8, 6))  \n",
    "plt.plot(fpr, tpr, label=f'ROC Curve (area = {roc_auc:.3f})') \n",
    "plt.title('Receiver Operating Characteristic')  \n",
    "plt.xlabel('False Positive Rate')  \n",
    "plt.ylabel('True Positive Rate')  \n",
    "plt.legend(loc=\"lower right\")  \n",
    "plt.show()  "
   ]
  },
  {
   "cell_type": "code",
   "execution_count": 7,
   "id": "1a2131e6-5050-4c67-b64b-27b0157a3a1d",
   "metadata": {},
   "outputs": [],
   "source": [
    "# Results:\n",
    "#\n",
    "# An AUC score of 0.889 shows that the logistic regression model has a good \n",
    "# ability to identify between passengers who survived and those who did not\n",
    "# using the features of 'Age' and 'Speed'. With this score, it means there \n",
    "# is an 88.9% chance that the model is correctly predicting. 88.9% is not the \n",
    "# best for a model, but is over 50% meaning it is working and can differentiate \n",
    "# and decide on predictions better than purely guessing. However, due to the \n",
    "# very small dataset, each rerun of this model gives varying AUC scores betw"
   ]
  }
 ],
 "metadata": {
  "kernelspec": {
   "display_name": "Python 3 (ipykernel)",
   "language": "python",
   "name": "python3"
  },
  "language_info": {
   "codemirror_mode": {
    "name": "ipython",
    "version": 3
   },
   "file_extension": ".py",
   "mimetype": "text/x-python",
   "name": "python",
   "nbconvert_exporter": "python",
   "pygments_lexer": "ipython3",
   "version": "3.12.7"
  }
 },
 "nbformat": 4,
 "nbformat_minor": 5
}
