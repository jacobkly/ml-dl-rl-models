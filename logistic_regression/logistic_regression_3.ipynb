{
 "cells": [
  {
   "cell_type": "code",
   "execution_count": 1,
   "id": "ed11f0b8-0421-4fdb-b635-f0df131b2fd1",
   "metadata": {},
   "outputs": [],
   "source": [
    "# import necessary libraries\n",
    "import pandas as pd\n",
    "import statsmodels.api as sm  \n",
    "from sklearn.model_selection import train_test_split  \n",
    "from sklearn.metrics import accuracy_score, confusion_matrix, roc_curve, roc_auc_score  \n",
    "import matplotlib.pyplot as plt  "
   ]
  },
  {
   "cell_type": "code",
   "execution_count": 2,
   "id": "a0efa3de-1da5-42e2-86f7-828a3f128a34",
   "metadata": {},
   "outputs": [
    {
     "name": "stdout",
     "output_type": "stream",
     "text": [
      "          Gender  Age  EstimatedSalary  Purchased\n",
      "User ID                                          \n",
      "15624510    Male   19            19000          0\n",
      "15810944    Male   35            20000          0\n",
      "15668575  Female   26            43000          0\n",
      "15603246  Female   27            57000          0\n",
      "15804002    Male   19            76000          0\n"
     ]
    }
   ],
   "source": [
    "# 1.\n",
    "\n",
    "# load the dataset into a pandas DataFrame\n",
    "df = pd.read_csv('Social_Network_Ads.csv', index_col='User ID')\n",
    "\n",
    "# print the first five entries from the DataFrame\n",
    "print(df.head())"
   ]
  },
  {
   "cell_type": "code",
   "execution_count": 3,
   "id": "6467d5be-c3c3-4cd1-bcd0-946a2e311a9e",
   "metadata": {},
   "outputs": [],
   "source": [
    "# 2.\n",
    "\n",
    "# convert categorical 'Gender' variable into numeric values ensuring compatibility\n",
    "df['Gender'] = df['Gender'].map({'Male': 1, 'Female': 0})\n",
    "\n",
    "# define the independent (feature) variables\n",
    "X = df[['Gender', 'Age', 'EstimatedSalary']]\n",
    "\n",
    "# define the dependent (target) variable\n",
    "y = df['Purchased']"
   ]
  },
  {
   "cell_type": "code",
   "execution_count": 4,
   "id": "47369cd3-138b-4a41-a9af-bc164a62a860",
   "metadata": {},
   "outputs": [],
   "source": [
    "# 3.\n",
    "\n",
    "# split the data into 70% training and 30% testing\n",
    "X_train, X_test, y_train, y_test = train_test_split(X, y, test_size=0.30, random_state=42)"
   ]
  },
  {
   "cell_type": "code",
   "execution_count": 5,
   "id": "ae0ea0c2-fb1d-43fa-b457-f52776ff37d0",
   "metadata": {},
   "outputs": [
    {
     "name": "stdout",
     "output_type": "stream",
     "text": [
      "Optimization terminated successfully.\n",
      "         Current function value: 0.371980\n",
      "         Iterations 7\n",
      "                           Logit Regression Results                           \n",
      "==============================================================================\n",
      "Dep. Variable:              Purchased   No. Observations:                  280\n",
      "Model:                          Logit   Df Residuals:                      276\n",
      "Method:                           MLE   Df Model:                            3\n",
      "Date:                Wed, 05 Feb 2025   Pseudo R-squ.:                  0.4214\n",
      "Time:                        13:50:11   Log-Likelihood:                -104.15\n",
      "converged:                       True   LL-Null:                       -180.02\n",
      "Covariance Type:            nonrobust   LLR p-value:                 1.120e-32\n",
      "===================================================================================\n",
      "                      coef    std err          z      P>|z|      [0.025      0.975]\n",
      "-----------------------------------------------------------------------------------\n",
      "const             -11.1778      1.378     -8.114      0.000     -13.878      -8.478\n",
      "Gender              0.2801      0.351      0.798      0.425      -0.408       0.968\n",
      "Age                 0.2004      0.027      7.447      0.000       0.148       0.253\n",
      "EstimatedSalary  3.335e-05   5.92e-06      5.632      0.000    2.17e-05     4.5e-05\n",
      "===================================================================================\n"
     ]
    }
   ],
   "source": [
    "# 4.\n",
    "\n",
    "# train the logistic regression model\n",
    "model = sm.Logit(y_train, sm.add_constant(X_train)).fit()\n",
    "\n",
    "# print model summary to analyze\n",
    "print(model.summary())"
   ]
  },
  {
   "cell_type": "code",
   "execution_count": 6,
   "id": "d0f12a92-7fff-457f-b34a-a308e4650da2",
   "metadata": {},
   "outputs": [],
   "source": [
    "# 5.\n",
    "\n",
    "# make predictions for the test set\n",
    "predictions = model.predict(sm.add_constant(X_test))\n",
    "\n",
    "# convert prediction probabilities into binary class labels\n",
    "bin_predictions = [1 if x >= 0.5 else 0 for x in predictions]"
   ]
  },
  {
   "cell_type": "code",
   "execution_count": 7,
   "id": "583bfc6d-214c-4475-811a-b43dc40aafee",
   "metadata": {},
   "outputs": [
    {
     "name": "stdout",
     "output_type": "stream",
     "text": [
      "Accuracy Score: 0.8583333333333333\n",
      "Confusion Matrix:\n",
      " [[71  2]\n",
      " [15 32]]\n"
     ]
    }
   ],
   "source": [
    "# 6.\n",
    "\n",
    "# calculate and report the classification accuracy\n",
    "accuracy = accuracy_score(y_test, bin_predictions)\n",
    "print('Accuracy Score:', accuracy)\n",
    "\n",
    "# generate and report the confusion matrix to understand prediction errors\n",
    "con_matrix = confusion_matrix(y_test, bin_predictions)\n",
    "print('Confusion Matrix:\\n', con_matrix)"
   ]
  },
  {
   "cell_type": "code",
   "execution_count": 8,
   "id": "94fda702-1966-4ba0-9aa5-251c78ddba17",
   "metadata": {},
   "outputs": [
    {
     "data": {
      "image/png": "[encoded data removed]",
      "text/plain": [
       "<Figure size 800x600 with 1 Axes>"
      ]
     },
     "metadata": {},
     "output_type": "display_data"
    }
   ],
   "source": [
    "# 7.\n",
    "\n",
    "# compute the ROC curve and corresponding AUC score to assess model performance\n",
    "fpr, tpr, threshold = roc_curve(y_test, predictions)\n",
    "roc_auc = roc_auc_score(y_test, predictions)\n",
    "\n",
    "# plot the ROC curve\n",
    "plt.figure(figsize=(8, 6))\n",
    "plt.plot(fpr, tpr, label=f'ROC Curve (AUC = {roc_auc:.3f})')\n",
    "plt.title('Receiver Operating Characteristic Curve')\n",
    "plt.xlabel('False Positive Rate')\n",
    "plt.ylabel('True Positive Rate')\n",
    "plt.legend(loc=\"lower right\")\n",
    "plt.show()"
   ]
  },
  {
   "cell_type": "code",
   "execution_count": 9,
   "id": "a2648a30-e01d-48f5-9c46-19b31abb4f9d",
   "metadata": {},
   "outputs": [],
   "source": [
    "# Results:\n",
    "#\n",
    "# Based on the Logistic Regression-Based Classifier built above, the model classification \n",
    "# accuracy comes out to approximately 85.8% with a high AUC score of 0.960."
   ]
  }
 ],
 "metadata": {
  "kernelspec": {
   "display_name": "Python 3 (ipykernel)",
   "language": "python",
   "name": "python3"
  },
  "language_info": {
   "codemirror_mode": {
    "name": "ipython",
    "version": 3
   },
   "file_extension": ".py",
   "mimetype": "text/x-python",
   "name": "python",
   "nbconvert_exporter": "python",
   "pygments_lexer": "ipython3",
   "version": "3.12.7"
  }
 },
 "nbformat": 4,
 "nbformat_minor": 5
}
