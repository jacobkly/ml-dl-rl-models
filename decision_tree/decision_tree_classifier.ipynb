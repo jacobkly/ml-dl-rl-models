{
 "cells": [
  {
   "cell_type": "code",
   "execution_count": 1,
   "id": "1fd1f0be-055f-4ae7-9227-d76de28aea01",
   "metadata": {},
   "outputs": [],
   "source": [
    "# import necessary libraries\n",
    "import pandas as pd  \n",
    "from sklearn.model_selection import train_test_split  \n",
    "from sklearn.tree import DecisionTreeClassifier  \n",
    "from sklearn import tree \n",
    "from sklearn.metrics import accuracy_score, confusion_matrix  \n",
    "import graphviz"
   ]
  },
  {
   "cell_type": "code",
   "execution_count": 8,
   "id": "1706231d-bcb9-4f55-b017-fba2ddc531c9",
   "metadata": {},
   "outputs": [
    {
     "name": "stdout",
     "output_type": "stream",
     "text": [
      "    Age  Sex  DaysDrink  Overdrawn\n",
      "0  19.0  1.0        3.0        0.0\n",
      "1  19.0  0.0       20.0        0.0\n",
      "2  19.0  0.0        6.0        0.0\n",
      "3  19.0  1.0       10.0        0.0\n",
      "4  19.0  1.0        0.0        0.0\n",
      "    Age  Sex  DaysDrink  Overdrawn\n",
      "0  19.0  1.0        0.0        0.0\n",
      "1  19.0  0.0        2.0        0.0\n",
      "2  19.0  0.0        0.0        0.0\n",
      "3  19.0  1.0        1.0        0.0\n",
      "4  19.0  1.0        0.0        0.0\n"
     ]
    }
   ],
   "source": [
    "# load the dataset into a pandas DataFrame\n",
    "df = pd.read_csv('overdrawn.csv')\n",
    "\n",
    "# clean the dataset of NA values\n",
    "df = df.dropna()\n",
    "\n",
    "# test opening file\n",
    "print(df.head())\n",
    "\n",
    "# convert the numeric DaysDrink variable to a categorical representation\n",
    "for i in df.index: # use df.index due to missing indices after dropping NA values\n",
    "    res = 0\n",
    "    if 7 <= df.loc[i, 'DaysDrink'] < 14:\n",
    "        res = 1\n",
    "    elif df.loc[i, 'DaysDrink'] >= 14:\n",
    "        res = 2\n",
    "    df.loc[i, 'DaysDrink'] = res\n",
    "\n",
    "# test changed 'DaysDrink' column\n",
    "print(df.head())"
   ]
  },
  {
   "cell_type": "code",
   "execution_count": 3,
   "id": "7705f47f-2303-4ba4-bb2d-7d1424ae9a20",
   "metadata": {},
   "outputs": [],
   "source": [
    "X = df.drop(columns='Overdrawn') # define the feature variables\n",
    "y = df['Overdrawn'] # define the target variable\n",
    "\n",
    "# split the dataset into training and testing subsets using 80-20 split\n",
    "X_train, X_test, y_train, y_test = train_test_split(X, y, test_size=0.2)"
   ]
  },
  {
   "cell_type": "code",
   "execution_count": 4,
   "id": "9f0989d8-07d6-4c4c-9b91-5d1f3f4efdc8",
   "metadata": {},
   "outputs": [
    {
     "name": "stdout",
     "output_type": "stream",
     "text": [
      "Accuracy Score: 0.9318181818181818\n",
      "Confusion Matrix:\n",
      " [[81  0]\n",
      " [ 6  1]]\n"
     ]
    }
   ],
   "source": [
    "# initilaize an Decision Tree Classifier\n",
    "dtree = DecisionTreeClassifier()\n",
    "\n",
    "# train the Decision Tree model on the training data\n",
    "dtree.fit(X_train, y_train)\n",
    "\n",
    "# make prediction on the test set\n",
    "predictions = dtree.predict(X_test)\n",
    "\n",
    "# evaluate the model's performance\n",
    "print(\"Accuracy Score:\", accuracy_score(y_test, predictions))\n",
    "\n",
    "# print the confusion matrix\n",
    "print(\"Confusion Matrix:\\n\", confusion_matrix(y_test, predictions))"
   ]
  },
  {
   "cell_type": "code",
   "execution_count": 5,
   "id": "d45270c6-ebcd-4c07-8f9c-c63ea5c15f2f",
   "metadata": {},
   "outputs": [
    {
     "data": {
      "text/plain": [
       "'overdrawn_dt.png'"
      ]
     },
     "execution_count": 5,
     "metadata": {},
     "output_type": "execute_result"
    }
   ],
   "source": [
    "# export decision tree to a format compatible with Graphviz\n",
    "dot_data = tree.export_graphviz(dtree, out_file=None, \n",
    "                                feature_names=('Age', 'Sex', 'DaysDrink',),  # feature names\n",
    "                                class_names=('0', '1'),  # class labels for target variables\n",
    "                                filled=True) \n",
    "\n",
    "# create graph from exported decision tree data\n",
    "graph = graphviz.Source(dot_data, format=\"png\") # generate image of tree\n",
    "graph.render('overdrawn_dt', view=True) # save and open image"
   ]
  },
  {
   "cell_type": "code",
   "execution_count": 7,
   "id": "f034e827-1f0e-40d5-99c5-8f1384427211",
   "metadata": {},
   "outputs": [],
   "source": [
    "# Results:\n",
    "# After testing this Decision Tree Classifier model with various changes (e.g., different \n",
    "# datasplit amounts, slightly changing classifications), I was able to create a decision tree\n",
    "# based model to predict student overdrawing with accuracies of over 85%. Additionally, I did \n",
    "# take the suggestion from the problem statement of converting the numeric 'DaysDrink' variable\n",
    "# to a categorical one. Overall, this conversion did result in an increased accuracy ranging from \n",
    "# 5% to 15%."
   ]
  }
 ],
 "metadata": {
  "kernelspec": {
   "display_name": "Python 3 (ipykernel)",
   "language": "python",
   "name": "python3"
  },
  "language_info": {
   "codemirror_mode": {
    "name": "ipython",
    "version": 3
   },
   "file_extension": ".py",
   "mimetype": "text/x-python",
   "name": "python",
   "nbconvert_exporter": "python",
   "pygments_lexer": "ipython3",
   "version": "3.12.7"
  }
 },
 "nbformat": 4,
 "nbformat_minor": 5
}
