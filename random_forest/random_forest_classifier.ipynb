{
 "cells": [
  {
   "cell_type": "code",
   "execution_count": 1,
   "id": "41fe3c54-e092-42aa-869f-71fe593dfebb",
   "metadata": {},
   "outputs": [],
   "source": [
    "# import necessary libraries\n",
    "import numpy as np\n",
    "import pandas as pd  \n",
    "import matplotlib.pyplot as plt  \n",
    "from sklearn.model_selection import train_test_split \n",
    "from sklearn.ensemble import RandomForestClassifier \n",
    "from sklearn.metrics import accuracy_score, confusion_matrix  "
   ]
  },
  {
   "cell_type": "code",
   "execution_count": 2,
   "id": "5e19fb82-e508-4ae0-a818-45988baccb30",
   "metadata": {},
   "outputs": [
    {
     "name": "stdout",
     "output_type": "stream",
     "text": [
      "  Sex  Length  Diameter  Height  Whole weight  Shucked weight  Viscera weight  \\\n",
      "0   M   0.350     0.265   0.090        0.2255          0.0995          0.0485   \n",
      "1   F   0.530     0.420   0.135        0.6770          0.2565          0.1415   \n",
      "2   M   0.440     0.365   0.125        0.5160          0.2155          0.1140   \n",
      "3   I   0.330     0.255   0.080        0.2050          0.0895          0.0395   \n",
      "4   I   0.425     0.300   0.095        0.3515          0.1410          0.0775   \n",
      "\n",
      "   Shell weight  Rings  \n",
      "0         0.070      7  \n",
      "1         0.210      9  \n",
      "2         0.155     10  \n",
      "3         0.055      7  \n",
      "4         0.120      8  \n"
     ]
    }
   ],
   "source": [
    "# load the dataset from a CSV file into a pandas DataFrame\n",
    "df = pd.read_csv('abalone.csv')\n",
    "\n",
    "# add column names\n",
    "df.columns = ['Sex', 'Length', 'Diameter', 'Height', 'Whole weight', \n",
    "              'Shucked weight', 'Viscera weight', 'Shell weight', 'Rings']\n",
    "\n",
    "# test opening the file and column names\n",
    "print(df.head())"
   ]
  },
  {
   "cell_type": "code",
   "execution_count": 3,
   "id": "c11d3e32-05f4-4753-9b9d-dc8007b9dc23",
   "metadata": {},
   "outputs": [
    {
     "name": "stdout",
     "output_type": "stream",
     "text": [
      "min: 1, max: 29\n",
      "  Sex  Length  Diameter  Height  Whole weight  Shucked weight  Viscera weight  \\\n",
      "0   M   0.350     0.265   0.090        0.2255          0.0995          0.0485   \n",
      "1   F   0.530     0.420   0.135        0.6770          0.2565          0.1415   \n",
      "2   M   0.440     0.365   0.125        0.5160          0.2155          0.1140   \n",
      "3   I   0.330     0.255   0.080        0.2050          0.0895          0.0395   \n",
      "4   I   0.425     0.300   0.095        0.3515          0.1410          0.0775   \n",
      "\n",
      "   Shell weight  Rings  \n",
      "0         0.070      2  \n",
      "1         0.210      4  \n",
      "2         0.155      0  \n",
      "3         0.055      2  \n",
      "4         0.120      3  \n"
     ]
    }
   ],
   "source": [
    "# get minimum and maximum Abalone rings from the dataset\n",
    "min_rings, max_rings = min(df['Rings']), max(df['Rings'])\n",
    "\n",
    "# print the minimum and maximum Abalone rings from the dataset\n",
    "print(f'min: {min_rings}, max: {max_rings}')\n",
    "\n",
    "# convert the numeric 'Rings' variable to a categorical representation by splitting the \n",
    "# values into five groups of rings.\n",
    "for i in df.index:\n",
    "    group = df.loc[i, 'Rings'] % 5\n",
    "    df.loc[i, 'Rings'] = group\n",
    "\n",
    "# test changed 'Rings' column\n",
    "print(df.head())"
   ]
  },
  {
   "cell_type": "code",
   "execution_count": 4,
   "id": "c2dd33bd-5fa3-4741-9ebc-40b83216496e",
   "metadata": {},
   "outputs": [
    {
     "name": "stdout",
     "output_type": "stream",
     "text": [
      "   Sex  Length  Diameter  Height  Whole weight  Shucked weight  \\\n",
      "0    0       0         0       0             0               0   \n",
      "1    1       1         1       1             1               1   \n",
      "2    0       2         2       2             2               2   \n",
      "3    2       3         3       3             3               3   \n",
      "4    2       4         4       4             4               4   \n",
      "\n",
      "   Viscera weight  Shell weight  Rings  \n",
      "0               0             0      0  \n",
      "1               1             1      1  \n",
      "2               2             2      2  \n",
      "3               3             3      0  \n",
      "4               4             4      3  \n"
     ]
    }
   ],
   "source": [
    "# convert all categorical variables in the dataset to numeric\n",
    "for col in df.columns:\n",
    "    labels, uniques = pd.factorize(df[col]) \n",
    "    df[col] = labels \n",
    "\n",
    "print(df.head())\n",
    "\n",
    "y = df['Rings'] # define the target variable\n",
    "X = df.drop(columns=['Rings', 'Sex']) # define the feature variables, 'Sex' has a low importance\n",
    "\n",
    "# split the dataset into training and test subsets using 80-20 split\n",
    "X_train, X_test, y_train, y_test = train_test_split(X, y, test_size=0.20, random_state=42)"
   ]
  },
  {
   "cell_type": "code",
   "execution_count": 5,
   "id": "80f49e47-9e45-41f8-91a6-9471c9a1dfd0",
   "metadata": {},
   "outputs": [
    {
     "name": "stdout",
     "output_type": "stream",
     "text": [
      "Accuracy score: 0.2834928229665072\n",
      "Confusion Matrix:\n",
      " [[14 37 23 37 25]\n",
      " [ 4 71 25 40 31]\n",
      " [12 57 49 31 41]\n",
      " [16 59 18 54 16]\n",
      " [22 26 46 33 49]]\n"
     ]
    }
   ],
   "source": [
    "# initialize a Random Forest Classifier\n",
    "rfc = RandomForestClassifier(n_estimators=500, max_depth=10, random_state=42)\n",
    "\n",
    "# train the Random Forest model on the training data\n",
    "rfc.fit(X_train, y_train)\n",
    "\n",
    "# evaluate the trained Random Forest model\n",
    "predictions = rfc.predict(X_test)\n",
    "\n",
    "# calculate the accuracy of the model\n",
    "print(\"Accuracy score:\", accuracy_score(y_test, predictions))\n",
    "\n",
    "# calculate the confusion matrix\n",
    "print(\"Confusion Matrix:\\n\", confusion_matrix(y_test, predictions))"
   ]
  },
  {
   "cell_type": "code",
   "execution_count": null,
   "id": "356f0f75-b724-4bf3-92fb-f1af3719dcff",
   "metadata": {},
   "outputs": [],
   "source": []
  }
 ],
 "metadata": {
  "kernelspec": {
   "display_name": "Python 3 (ipykernel)",
   "language": "python",
   "name": "python3"
  },
  "language_info": {
   "codemirror_mode": {
    "name": "ipython",
    "version": 3
   },
   "file_extension": ".py",
   "mimetype": "text/x-python",
   "name": "python",
   "nbconvert_exporter": "python",
   "pygments_lexer": "ipython3",
   "version": "3.12.7"
  }
 },
 "nbformat": 4,
 "nbformat_minor": 5
}
