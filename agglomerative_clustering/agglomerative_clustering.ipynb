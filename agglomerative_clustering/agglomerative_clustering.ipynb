{
 "cells": [
  {
   "cell_type": "code",
   "execution_count": 1,
   "id": "a6634831-e271-43cd-9d12-520b19000911",
   "metadata": {},
   "outputs": [],
   "source": [
    "# import necessary libraries\n",
    "import pandas as pd  \n",
    "from sklearn.preprocessing import StandardScaler  \n",
    "import scipy.cluster.hierarchy as sch  \n",
    "import matplotlib.pyplot as plt  \n",
    "from sklearn.cluster import AgglomerativeClustering  \n",
    "from sklearn.metrics import adjusted_rand_score, silhouette_score  "
   ]
  },
  {
   "cell_type": "code",
   "execution_count": 2,
   "id": "be157c54-77bf-4f47-beb4-a36cc2184f5a",
   "metadata": {},
   "outputs": [
    {
     "name": "stdout",
     "output_type": "stream",
     "text": [
      "      sr  pop15  pop75      dpi  ddpi\n",
      "0  11.43  29.35   2.87  2329.68  2.87\n",
      "1  12.07  23.32   4.41  1507.99  3.93\n",
      "2  13.17  23.80   4.43  2108.47  3.82\n",
      "3   5.75  41.89   1.67   189.13  0.22\n",
      "4  12.88  42.19   0.83   728.47  4.56\n"
     ]
    }
   ],
   "source": [
    "# load the dataset\n",
    "df = pd.read_csv('lifecyclesaving.csv')\n",
    "\n",
    "# only use the numerical features for clustering\n",
    "df_feat = df.drop(columns='Contry')\n",
    "\n",
    "# print the first five features DataFrame entries\n",
    "print(df_feat.head())"
   ]
  },
  {
   "cell_type": "code",
   "execution_count": 3,
   "id": "1299108d-170e-4434-b3a9-7efadfcbb46d",
   "metadata": {},
   "outputs": [
    {
     "data": {
      "text/plain": [
       "array([[ 0.39658414, -0.63352758,  0.4515579 ,  1.24672132, -0.31242224],\n",
       "       [ 0.54087854, -1.29910903,  1.65675574,  0.40904011,  0.06068228],\n",
       "       [ 0.78888455, -1.24612742,  1.67240766,  1.02120627,  0.02196389],\n",
       "       [-0.88402867,  0.75061693, -0.48755731, -0.9354867 , -1.24518353],\n",
       "       [ 0.72350114,  0.78373044, -1.14493796, -0.38565041,  0.28243308],\n",
       "       [-0.19863026, -0.37193089,  0.43590598,  1.91263348, -0.46729581],\n",
       "       [-2.04514767,  0.51330348, -0.74581399, -0.45253727, -0.38281932],\n",
       "       [ 0.50255034,  1.06629901, -1.27015332, -0.83314297,  0.9688046 ],\n",
       "       [-1.05763287,  1.27491409, -0.96494087, -0.84626344, -0.2385053 ],\n",
       "       [ 0.25003514,  1.38529244, -0.90233319, -0.64788645, -0.33706121],\n",
       "       [ 1.61857735, -1.17769284,  1.28110966,  1.41681844,  0.08180141],\n",
       "       [-1.37102227,  1.23848924, -0.86320339, -0.83492703, -0.55177231],\n",
       "       [ 0.35374674, -0.80019889,  0.06025989,  0.58567199,  0.19795659],\n",
       "       [ 0.66939074, -1.1070507 ,  1.88370859,  1.12860652,  0.26835367],\n",
       "       [ 0.64909934, -1.30021281,  0.82720398,  1.37664147, -0.11179056],\n",
       "       [ 0.22523454, -1.04523882,  0.63155498, -0.2404995 ,  0.88784796],\n",
       "       [-1.50178907,  1.20979087, -1.11363412, -0.83294927, -0.80168194],\n",
       "       [-0.44438166,  1.34997137, -1.34058696, -0.89133382, -0.19978691],\n",
       "       [-1.89408947, -0.1169569 ,  0.61590306,  0.80878111, -0.92839668],\n",
       "       [-0.15128366,  0.68659749, -1.04320048, -1.03762653, -0.78056281],\n",
       "       [ 0.37629274, -0.43374276,  1.48458462,  0.03383755, -0.27018399],\n",
       "       [ 1.03914515, -1.16665501,  0.92894146,  0.28875387, -0.07659202],\n",
       "       [ 2.57678236, -0.89181292, -0.29973427,  0.15345095,  1.56717977],\n",
       "       [-1.28309287,  0.73406018, -1.08233028, -0.91657569,  0.72241482],\n",
       "       [ 0.15308734, -1.46688412,  1.12459046,  1.36876104, -0.77000325],\n",
       "       [ 1.30969715, -0.28142064,  0.13851949, -0.51555017,  1.53550109],\n",
       "       [ 0.13054134, -1.00881397,  1.0776347 ,  1.14615145, -0.04843319],\n",
       "       [ 1.12256535, -1.14568312,  0.74894438,  0.64627897,  1.37358781],\n",
       "       [ 0.22523454, -0.27369416,  0.6863367 ,  0.38817174, -0.70312603],\n",
       "       [-0.53456566,  1.09830873, -0.84755147, -0.79642197, -0.44969654],\n",
       "       [-1.17938127,  0.93494878, -0.85537743, -0.54867247, -0.05195304],\n",
       "       [-1.72499447,  0.6722483 , -0.97276683, -0.90344503, -0.96007536],\n",
       "       [ 0.68291834,  1.00448714, -0.79276975, -0.72045171, -1.08679011],\n",
       "       [ 0.70095514,  1.23297032, -0.91798511, -0.9733291 , -0.61864953],\n",
       "       [ 0.63557174, -0.67657513,  0.43590598, -0.53750937,  1.31023043],\n",
       "       [ 0.33120074, -0.34764765, -0.01017375, -0.46451594, -0.55177231],\n",
       "       [ 0.81819435, -0.34985522, -0.60494671, -0.8724534 , -0.61864953],\n",
       "       [ 0.47324054, -0.81123672,  0.4515579 , -0.34454572,  0.20851615],\n",
       "       [-0.63376806, -1.50662033,  1.75849322,  2.23540514, -0.26314428],\n",
       "       [ 1.00532615, -1.28034471,  1.12459046,  1.55386464, -0.37225975],\n",
       "       [-1.02381387,  0.91949581, -0.94928895, -0.73105411, -0.28074355],\n",
       "       [-1.54688107,  1.21751735, -0.84755147, -0.87356461, -0.92487682],\n",
       "       [-0.41958106, -1.30462795,  1.69588554,  0.72093412, -0.61512968],\n",
       "       [-0.47594606, -0.58275354,  0.88981166,  2.9514748 , -0.4602561 ],\n",
       "       [-0.10168246,  1.24842329, -1.09015624, -0.29907775, -1.13606806],\n",
       "       [ 2.00411395,  1.12148819, -1.35623888, -0.98727533,  0.48658461],\n",
       "       [-0.43987246,  0.6656256 , -0.44060155, -0.74042296,  2.27819027],\n",
       "       [-0.09717326, -0.76818917,  0.33416849, -0.34683951, -0.66088778],\n",
       "       [-0.17608426,  0.94929796, -0.17451891, -1.00231239,  4.55905563],\n",
       "       [-1.11850707,  1.33672597, -1.27797928, -0.88088435,  0.46546549]])"
      ]
     },
     "execution_count": 3,
     "metadata": {},
     "output_type": "execute_result"
    }
   ],
   "source": [
    "# standardize the dataset\n",
    "scaler = StandardScaler()\n",
    "scaler.fit_transform(df_feat)"
   ]
  },
  {
   "cell_type": "code",
   "execution_count": 4,
   "id": "133225c6-248d-4bde-97ac-f4b843b4e653",
   "metadata": {},
   "outputs": [
    {
     "data": {
      "image/png": "[encoded data removed]",
      "text/plain": [
       "<Figure size 640x480 with 1 Axes>"
      ]
     },
     "metadata": {},
     "output_type": "display_data"
    }
   ],
   "source": [
    "# compute the linkage matrix using the 'complete' linkage\n",
    "linkage_matrix = sch.linkage(df_feat, method='complete')\n",
    "\n",
    "# plot the dendrogram\n",
    "dendrogram = sch.dendrogram(linkage_matrix, color_threshold=linkage_matrix[-(4 - 1), 2])\n",
    "plt.title('Hierarchical Clustering')\n",
    "plt.show()"
   ]
  },
  {
   "cell_type": "code",
   "execution_count": 5,
   "id": "a3639121-50ca-446a-8a19-4a0ad475cbce",
   "metadata": {},
   "outputs": [
    {
     "name": "stdout",
     "output_type": "stream",
     "text": [
      "            Contry  Cluster\n",
      "0        Australia        3\n",
      "1          Austria        1\n",
      "2          Belgium        3\n",
      "3          Bolivia        2\n",
      "4           Brazil        2\n",
      "5           Canada        0\n",
      "6            Chile        2\n",
      "7            China        2\n",
      "8         Colombia        2\n",
      "9       Costa Rica        2\n",
      "10         Denmark        3\n",
      "11         Ecuador        2\n",
      "12         Finland        1\n",
      "13          France        3\n",
      "14         Germany        3\n",
      "15          Greece        2\n",
      "16       Guatamala        2\n",
      "17        Honduras        2\n",
      "18         Iceland        1\n",
      "19           India        2\n",
      "20         Ireland        1\n",
      "21           Italy        1\n",
      "22           Japan        1\n",
      "23           Korea        2\n",
      "24      Luxembourg        3\n",
      "25           Malta        2\n",
      "26          Norway        3\n",
      "27     Netherlands        1\n",
      "28     New Zealand        1\n",
      "29       Nicaragua        2\n",
      "30          Panama        2\n",
      "31        Paraguay        2\n",
      "32            Peru        2\n",
      "33     Philippines        2\n",
      "34        Portugal        2\n",
      "35    South Africa        2\n",
      "36  South Rhodesia        2\n",
      "37           Spain        2\n",
      "38          Sweden        0\n",
      "39     Switzerland        3\n",
      "40          Turkey        2\n",
      "41         Tunisia        2\n",
      "42  United Kingdom        1\n",
      "43   United States        0\n",
      "44       Venezuela        2\n",
      "45          Zambia        2\n",
      "46         Jamaica        2\n",
      "47         Uruguay        2\n",
      "48           Libya        2\n",
      "49        Malaysia        2\n"
     ]
    }
   ],
   "source": [
    "# initialze Agglomerative Clustering with 4 clusters\n",
    "cluster = AgglomerativeClustering(n_clusters=4, linkage='complete')\n",
    "\n",
    "# fit and predict the clusters to the DataFrame\n",
    "df['Cluster'] = cluster.fit_predict(df_feat)\n",
    "\n",
    "# print assigned clusters to Countries\n",
    "print(df[['Contry', 'Cluster']])"
   ]
  },
  {
   "cell_type": "code",
   "execution_count": 6,
   "id": "d287fade-a0ca-401b-ae15-52ba3c402f38",
   "metadata": {},
   "outputs": [
    {
     "name": "stdout",
     "output_type": "stream",
     "text": [
      "Silhouette Score for Agglomerative Clustering: 0.6743051467868127\n"
     ]
    }
   ],
   "source": [
    "# calculate and display the Silhouette Score for Agglomerative Clustering\n",
    "silhouette = silhouette_score(df_feat, df['Cluster'])\n",
    "print(f'Silhouette Score for Agglomerative Clustering: {silhouette}')"
   ]
  },
  {
   "cell_type": "code",
   "execution_count": 7,
   "id": "74e9b31d-4c4c-4b15-b027-f2baabc32657",
   "metadata": {},
   "outputs": [],
   "source": [
    "# Results and Observations:\n",
    "#\n",
    "# The 'Contry' column is not needed because the problem is asking to cluster\n",
    "# the data and each entry is a unique country. It has no real usefulness due \n",
    "# to clustering being part of unsupervised learning where labels are not \n",
    "# needed, just data to be grouped up.\n",
    "#\n",
    "# The ARI score is not meaningful in this situation also because there are \n",
    "# no predefined labels that need to be used with the same idea for the \n",
    "# unsupervised learning of clustering algorithms. However, the highest \n",
    "# achievable silhouette score is approximately 0.674, meaning the clustering\n",
    "# is decently separated but not the best, with 4 clusters.\n",
    "#\n",
    "# I do believe that the clustering labels are somewhat correct either way as \n",
    "# looking at the more advanced countries in the world, the clustering labels \n",
    "# for them are either 0 or 1, and the less advanced countries in the world are\n",
    "# 2 or 3."
   ]
  }
 ],
 "metadata": {
  "kernelspec": {
   "display_name": "Python 3 (ipykernel)",
   "language": "python",
   "name": "python3"
  },
  "language_info": {
   "codemirror_mode": {
    "name": "ipython",
    "version": 3
   },
   "file_extension": ".py",
   "mimetype": "text/x-python",
   "name": "python",
   "nbconvert_exporter": "python",
   "pygments_lexer": "ipython3",
   "version": "3.12.7"
  }
 },
 "nbformat": 4,
 "nbformat_minor": 5
}
