{
 "cells": [
  {
   "cell_type": "code",
   "execution_count": 1,
   "id": "d243f473-7f05-43ad-a765-3620527d8046",
   "metadata": {},
   "outputs": [],
   "source": [
    "# import the necessary libraries\n",
    "import tensorflow as tf  \n",
    "import keras  \n",
    "from keras import layers  \n",
    "from keras import Model  \n",
    "import torch"
   ]
  },
  {
   "cell_type": "code",
   "execution_count": 3,
   "id": "6bb8cbcd-1c5e-4228-9045-34691db2d55b",
   "metadata": {},
   "outputs": [],
   "source": [
    "# define model and data parameters\n",
    "num_classes = 10\n",
    "input_shape = (28, 28, 1)\n",
    "\n",
    "# load the MNIST dataset\n",
    "(x_train, y_train), (x_test, y_test) = keras.datasets.mnist.load_data()\n",
    "\n",
    "# reshape MNIST data to fit LSTM input expectations (batch_size, time_steps, features)\n",
    "x_train = x_train.reshape(-1, 28, 28)\n",
    "x_test = x_test.reshape(-1, 28, 28)\n",
    "\n",
    "# normalize the image pixal values to range [0, 1] by dividing by 255\n",
    "x_train = x_train.astype(\"float32\") / 255\n",
    "x_test = x_test.astype(\"float32\") / 255\n",
    "\n",
    "# convert the class labels into one-hot encoding format\n",
    "y_train = keras.utils.to_categorical(y_train, num_classes)\n",
    "y_test = keras.utils.to_categorical(y_test, num_classes)"
   ]
  },
  {
   "cell_type": "code",
   "execution_count": 4,
   "id": "7c10fc59-dfdc-416f-8ee5-38140520d063",
   "metadata": {},
   "outputs": [
    {
     "name": "stderr",
     "output_type": "stream",
     "text": [
      "C:\\Users\\Jacob Klymenko\\anaconda3\\Lib\\site-packages\\keras\\src\\layers\\rnn\\rnn.py:200: UserWarning: Do not pass an `input_shape`/`input_dim` argument to a layer. When using Sequential models, prefer using an `Input(shape)` object as the first layer in the model instead.\n",
      "  super().__init__(**kwargs)\n"
     ]
    }
   ],
   "source": [
    "# define the LSTM-based sequential model\n",
    "model = tf.keras.models.Sequential(\n",
    "    [\n",
    "        tf.keras.layers.LSTM(32, input_shape=(28, 28), return_sequences=True),\n",
    "        tf.keras.layers.LSTM(64),\n",
    "        tf.keras.layers.Dropout(0.25),\n",
    "        tf.keras.layers.Flatten(),\n",
    "        tf.keras.layers.Dense(128, activation='relu'),\n",
    "        tf.keras.layers.Dropout(0.25),\n",
    "        tf.keras.layers.Dense(64, activation='relu'),\n",
    "        tf.keras.layers.Dense(10, activation='softmax') # 10 units (one per class)\n",
    "    ]\n",
    ")"
   ]
  },
  {
   "cell_type": "code",
   "execution_count": 5,
   "id": "ff5a285a-be06-4eb9-b407-c8ef6cc01402",
   "metadata": {},
   "outputs": [
    {
     "name": "stdout",
     "output_type": "stream",
     "text": [
      "Epoch 1/10\n",
      "\u001b[1m469/469\u001b[0m \u001b[32m━━━━━━━━━━━━━━━━━━━━\u001b[0m\u001b[37m\u001b[0m \u001b[1m10s\u001b[0m 17ms/step - accuracy: 0.5205 - loss: 1.3363\n",
      "Epoch 2/10\n",
      "\u001b[1m469/469\u001b[0m \u001b[32m━━━━━━━━━━━━━━━━━━━━\u001b[0m\u001b[37m\u001b[0m \u001b[1m8s\u001b[0m 17ms/step - accuracy: 0.9137 - loss: 0.2834\n",
      "Epoch 3/10\n",
      "\u001b[1m469/469\u001b[0m \u001b[32m━━━━━━━━━━━━━━━━━━━━\u001b[0m\u001b[37m\u001b[0m \u001b[1m8s\u001b[0m 18ms/step - accuracy: 0.9485 - loss: 0.1734\n",
      "Epoch 4/10\n",
      "\u001b[1m469/469\u001b[0m \u001b[32m━━━━━━━━━━━━━━━━━━━━\u001b[0m\u001b[37m\u001b[0m \u001b[1m8s\u001b[0m 17ms/step - accuracy: 0.9614 - loss: 0.1310\n",
      "Epoch 5/10\n",
      "\u001b[1m469/469\u001b[0m \u001b[32m━━━━━━━━━━━━━━━━━━━━\u001b[0m\u001b[37m\u001b[0m \u001b[1m8s\u001b[0m 17ms/step - accuracy: 0.9692 - loss: 0.1064\n",
      "Epoch 6/10\n",
      "\u001b[1m469/469\u001b[0m \u001b[32m━━━━━━━━━━━━━━━━━━━━\u001b[0m\u001b[37m\u001b[0m \u001b[1m8s\u001b[0m 17ms/step - accuracy: 0.9740 - loss: 0.0904\n",
      "Epoch 7/10\n",
      "\u001b[1m469/469\u001b[0m \u001b[32m━━━━━━━━━━━━━━━━━━━━\u001b[0m\u001b[37m\u001b[0m \u001b[1m8s\u001b[0m 17ms/step - accuracy: 0.9784 - loss: 0.0770\n",
      "Epoch 8/10\n",
      "\u001b[1m469/469\u001b[0m \u001b[32m━━━━━━━━━━━━━━━━━━━━\u001b[0m\u001b[37m\u001b[0m \u001b[1m8s\u001b[0m 18ms/step - accuracy: 0.9803 - loss: 0.0681\n",
      "Epoch 9/10\n",
      "\u001b[1m469/469\u001b[0m \u001b[32m━━━━━━━━━━━━━━━━━━━━\u001b[0m\u001b[37m\u001b[0m \u001b[1m8s\u001b[0m 18ms/step - accuracy: 0.9834 - loss: 0.0593\n",
      "Epoch 10/10\n",
      "\u001b[1m469/469\u001b[0m \u001b[32m━━━━━━━━━━━━━━━━━━━━\u001b[0m\u001b[37m\u001b[0m \u001b[1m8s\u001b[0m 17ms/step - accuracy: 0.9843 - loss: 0.0541\n",
      "\n",
      "Test accuracy: 98.4%\n"
     ]
    }
   ],
   "source": [
    "# define training parameters\n",
    "batch_size = 128\n",
    "epochs = 10\n",
    "\n",
    "# compile the model with the Adam optimizer, categorical crossentropy loss, and accuracy metric\n",
    "model.compile(loss=\"categorical_crossentropy\", optimizer=\"adam\", metrics=[\"accuracy\"])\n",
    "\n",
    "# train the model on the training dataset for the specified number of epochs and batch size\n",
    "model.fit(x_train, y_train, batch_size=batch_size, epochs=epochs)\n",
    "\n",
    "# evaluate the model on the test data\n",
    "_, acc = model.evaluate(x_test, y_test, batch_size=batch_size, verbose=0)  \n",
    "\n",
    "# print the accuracy on the test set\n",
    "print(\"\\nTest accuracy: %.1f%%\" % (100.0 * acc))"
   ]
  },
  {
   "cell_type": "code",
   "execution_count": 6,
   "id": "f6255b9f-513b-4a44-a84d-ce440c99f168",
   "metadata": {},
   "outputs": [],
   "source": [
    "# Results:\n",
    "# \n",
    "# This was also an interesting problem to work through. Running 1 epoch gave about 90% \n",
    "# accuracy, 5 epochs gave about 96% accuracy, and 10 epochs gave an approximate 98.1% \n",
    "# accuracy for classifying the 10 hand-drawn digits from the MNIST dataset using an \n",
    "# LSTM model. Initially, I thought that this model would take a lot of time to process \n",
    "# based on the coding activity we had to practice this, however after trying 1 epoch, \n",
    "# training this model was much quicker so 10 epochs only took a few minutes. I found \n",
    "# that after reading the textbook and reviewing the solutions to the coding activities \n",
    "# for chapter 9, implementing this LSTM model was by far the easiest out of the three \n",
    "# problems and achieved the highest accuracy. I would say this was due to the overall \n",
    "# amount of information that was covered in general for the MNIST dataset and how it \n",
    "# affects the model with the input shape and image processing."
   ]
  }
 ],
 "metadata": {
  "kernelspec": {
   "display_name": "Python 3 (ipykernel)",
   "language": "python",
   "name": "python3"
  },
  "language_info": {
   "codemirror_mode": {
    "name": "ipython",
    "version": 3
   },
   "file_extension": ".py",
   "mimetype": "text/x-python",
   "name": "python",
   "nbconvert_exporter": "python",
   "pygments_lexer": "ipython3",
   "version": "3.12.7"
  }
 },
 "nbformat": 4,
 "nbformat_minor": 5
}
