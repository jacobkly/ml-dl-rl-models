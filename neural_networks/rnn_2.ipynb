{
 "cells": [
  {
   "cell_type": "code",
   "execution_count": 4,
   "id": "923713d9-7d39-4402-af4c-76c25196a505",
   "metadata": {},
   "outputs": [],
   "source": [
    "# import necessary libraries\n",
    "import numpy as np  \n",
    "from tensorflow import keras  \n",
    "from keras.models import Sequential  \n",
    "from keras.layers import Dense, Activation, SimpleRNN  \n",
    "from keras.utils import to_categorical  \n",
    "from keras.datasets import mnist "
   ]
  },
  {
   "cell_type": "code",
   "execution_count": 18,
   "id": "01679c09-559c-4eef-b597-6b5924ba3d8c",
   "metadata": {},
   "outputs": [],
   "source": [
    "# load the MNIST dataset\n",
    "(X_train, y_train), (X_test, y_test) = mnist.load_data()\n",
    "\n",
    "# convert labels one-hot encoded\n",
    "y_train = to_categorical(y_train, num_classes=10)\n",
    "y_test = to_categorical(y_test, num_classes=10)\n",
    "\n",
    "# reshape the images \n",
    "X_train = np.reshape(X_train, [-1, 28, 28]) \n",
    "X_test = np.reshape(X_test, [-1, 28, 28]) \n",
    "\n",
    "# normalize pixal values\n",
    "X_train = X_train.astype('float32') / 255 \n",
    "X_test = X_test.astype('float32') / 255"
   ]
  },
  {
   "cell_type": "code",
   "execution_count": 19,
   "id": "cdd1c2e7-271e-4088-92f2-e8a52925be0e",
   "metadata": {},
   "outputs": [],
   "source": [
    "# build the RNN model\n",
    "model = Sequential()\n",
    "model.add(SimpleRNN(256, dropout=0.2, input_shape=(28, 28)))\n",
    "model.add(Dense(10))\n",
    "model.add(Activation('softmax'))"
   ]
  },
  {
   "cell_type": "code",
   "execution_count": 20,
   "id": "23eded08-619c-4d82-b0b7-7dcaa25751f6",
   "metadata": {},
   "outputs": [
    {
     "name": "stdout",
     "output_type": "stream",
     "text": [
      "Epoch 1/5\n",
      "\u001b[1m469/469\u001b[0m \u001b[32m━━━━━━━━━━━━━━━━━━━━\u001b[0m\u001b[37m\u001b[0m \u001b[1m8s\u001b[0m 16ms/step - accuracy: 0.7835 - loss: 0.6837\n",
      "Epoch 2/5\n",
      "\u001b[1m469/469\u001b[0m \u001b[32m━━━━━━━━━━━━━━━━━━━━\u001b[0m\u001b[37m\u001b[0m \u001b[1m7s\u001b[0m 15ms/step - accuracy: 0.9301 - loss: 0.2345\n",
      "Epoch 3/5\n",
      "\u001b[1m469/469\u001b[0m \u001b[32m━━━━━━━━━━━━━━━━━━━━\u001b[0m\u001b[37m\u001b[0m \u001b[1m7s\u001b[0m 15ms/step - accuracy: 0.9426 - loss: 0.1895\n",
      "Epoch 4/5\n",
      "\u001b[1m469/469\u001b[0m \u001b[32m━━━━━━━━━━━━━━━━━━━━\u001b[0m\u001b[37m\u001b[0m \u001b[1m7s\u001b[0m 15ms/step - accuracy: 0.9510 - loss: 0.1609\n",
      "Epoch 5/5\n",
      "\u001b[1m469/469\u001b[0m \u001b[32m━━━━━━━━━━━━━━━━━━━━\u001b[0m\u001b[37m\u001b[0m \u001b[1m7s\u001b[0m 15ms/step - accuracy: 0.9534 - loss: 0.1544\n"
     ]
    },
    {
     "data": {
      "text/plain": [
       "<keras.src.callbacks.history.History at 0x1fe33592d20>"
      ]
     },
     "execution_count": 20,
     "metadata": {},
     "output_type": "execute_result"
    }
   ],
   "source": [
    "# compile the model\n",
    "model.compile(loss='categorical_crossentropy', optimizer='adam', metrics=['accuracy'])\n",
    "\n",
    "# train the model for 5 epochs\n",
    "model.fit(X_train, y_train, batch_size=128, epochs=5)"
   ]
  },
  {
   "cell_type": "code",
   "execution_count": 26,
   "id": "075dc4e3-da16-43c3-a6cc-2520bd0f30b2",
   "metadata": {},
   "outputs": [
    {
     "name": "stdout",
     "output_type": "stream",
     "text": [
      "\u001b[1m313/313\u001b[0m \u001b[32m━━━━━━━━━━━━━━━━━━━━\u001b[0m\u001b[37m\u001b[0m \u001b[1m1s\u001b[0m 3ms/step\n",
      "\u001b[1m79/79\u001b[0m \u001b[32m━━━━━━━━━━━━━━━━━━━━\u001b[0m\u001b[37m\u001b[0m \u001b[1m1s\u001b[0m 7ms/step - accuracy: 0.9639 - loss: 0.1228\n",
      "Evaluation results: \n",
      "MSE=0.103118\n",
      "mae=0.969500\n"
     ]
    }
   ],
   "source": [
    "# predict output for the testing dataset\n",
    "predicted = model.predict(X_test)\n",
    "\n",
    "# reshape predicted values to match size of testing target data\n",
    "predicted = np.reshape(predicted, (predicted.size,))\n",
    "\n",
    "# evaluate the training model using the testing dataset\n",
    "scores = model.evaluate(X_test, y_test, batch_size=128)\n",
    "\n",
    "# print the evaluation results\n",
    "print(\"Evaluation results: \\nMSE={:.6f}\\nmae={:.6f}\".format(scores[0], scores[1]))"
   ]
  },
  {
   "cell_type": "code",
   "execution_count": 27,
   "id": "2c8690ac-e13b-4da3-bb3d-4cc89c848c1c",
   "metadata": {},
   "outputs": [],
   "source": [
    "# Results:\n",
    "#\n",
    "# The testing accuracy of this RNN model is about 97%. This is a high accuracy suggesting that\n",
    "# this model is very good for classification of these digits. With the MSE score being around \n",
    "# 0.1, this is acceptable but not the best."
   ]
  },
  {
   "cell_type": "code",
   "execution_count": null,
   "id": "c62b8746-ceef-4d75-be52-9fb015097b54",
   "metadata": {},
   "outputs": [],
   "source": []
  }
 ],
 "metadata": {
  "kernelspec": {
   "display_name": "Python 3 (ipykernel)",
   "language": "python",
   "name": "python3"
  },
  "language_info": {
   "codemirror_mode": {
    "name": "ipython",
    "version": 3
   },
   "file_extension": ".py",
   "mimetype": "text/x-python",
   "name": "python",
   "nbconvert_exporter": "python",
   "pygments_lexer": "ipython3",
   "version": "3.12.7"
  }
 },
 "nbformat": 4,
 "nbformat_minor": 5
}
