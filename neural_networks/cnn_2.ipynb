{
 "cells": [
  {
   "cell_type": "code",
   "execution_count": 1,
   "id": "d14fccd5-236a-42f5-9411-c911faa664a3",
   "metadata": {},
   "outputs": [],
   "source": [
    "# import necessary libraries\n",
    "import keras\n",
    "import tensorflow as tf\n",
    "from keras.datasets import mnist\n",
    "from keras import datasets, layers, models\n",
    "import matplotlib.pyplot as plt\n",
    "import numpy as np"
   ]
  },
  {
   "cell_type": "code",
   "execution_count": 2,
   "id": "870b9a9c-09cb-4a7b-be89-a26886669b7f",
   "metadata": {},
   "outputs": [],
   "source": [
    "# load MNIST dataset\n",
    "(X_train, y_train), (X_test, y_test) = mnist.load_data()\n",
    "\n",
    "# normalize the images' pixel values to be between 0 and 1\n",
    "X_train = X_train.astype('float32') / 255\n",
    "X_test = X_test.astype('float32') / 255\n",
    "\n",
    "# expand dimensions for CNN input\n",
    "x_train = np.expand_dims(X_train, -1)\n",
    "x_test = np.expand_dims(X_test, -1)\n",
    "\n",
    "# convert labels to one-hot encoding with 10 classes for MNIST dataset\n",
    "y_train = keras.utils.to_categorical(y_train, 10)\n",
    "y_test = keras.utils.to_categorical(y_test, 10)"
   ]
  },
  {
   "cell_type": "code",
   "execution_count": 3,
   "id": "9104767d-630a-4990-b91c-98752b230ad1",
   "metadata": {},
   "outputs": [],
   "source": [
    "# build the CNN model\n",
    "model = models.Sequential([\n",
    "        keras.Input(shape=(28, 28, 1)),  \n",
    "        layers.Conv2D(32, kernel_size=(3, 3), activation=\"relu\"), \n",
    "        layers.MaxPooling2D(pool_size=(2, 2)),  \n",
    "        layers.Conv2D(64, kernel_size=(3, 3), activation=\"relu\"), \n",
    "        layers.MaxPooling2D(pool_size=(2, 2)), \n",
    "        layers.Flatten(),  \n",
    "        layers.Dropout(0.5),  \n",
    "        layers.Dense(10, activation=\"softmax\"), \n",
    "])"
   ]
  },
  {
   "cell_type": "code",
   "execution_count": 4,
   "id": "a907e064-c47a-4090-a279-1853cd7161cb",
   "metadata": {},
   "outputs": [
    {
     "name": "stdout",
     "output_type": "stream",
     "text": [
      "Epoch 1/3\n",
      "\u001b[1m422/422\u001b[0m \u001b[32m━━━━━━━━━━━━━━━━━━━━\u001b[0m\u001b[37m\u001b[0m \u001b[1m7s\u001b[0m 15ms/step - accuracy: 0.7581 - loss: 0.7717 - val_accuracy: 0.9757 - val_loss: 0.0856\n",
      "Epoch 2/3\n",
      "\u001b[1m422/422\u001b[0m \u001b[32m━━━━━━━━━━━━━━━━━━━━\u001b[0m\u001b[37m\u001b[0m \u001b[1m6s\u001b[0m 14ms/step - accuracy: 0.9634 - loss: 0.1172 - val_accuracy: 0.9837 - val_loss: 0.0572\n",
      "Epoch 3/3\n",
      "\u001b[1m422/422\u001b[0m \u001b[32m━━━━━━━━━━━━━━━━━━━━\u001b[0m\u001b[37m\u001b[0m \u001b[1m6s\u001b[0m 14ms/step - accuracy: 0.9739 - loss: 0.0862 - val_accuracy: 0.9880 - val_loss: 0.0440\n"
     ]
    }
   ],
   "source": [
    "# compile the model and set optimizer and loss functions\n",
    "model.compile(optimizer=\"adam\", loss='categorical_crossentropy', metrics=[\"accuracy\"]) \n",
    "\n",
    "# train the model on the training dataset for 3 epochs\n",
    "history = model.fit(X_train, y_train, batch_size=128, epochs=3, validation_split=0.1)"
   ]
  },
  {
   "cell_type": "code",
   "execution_count": 5,
   "id": "ee85ecfc-dce2-4260-9415-6869d40747b0",
   "metadata": {},
   "outputs": [
    {
     "name": "stdout",
     "output_type": "stream",
     "text": [
      "313/313 - 1s - 2ms/step - accuracy: 0.9854 - loss: 0.0448\n"
     ]
    },
    {
     "data": {
      "image/png": "[encoded data removed]",
      "text/plain": [
       "<Figure size 640x480 with 1 Axes>"
      ]
     },
     "metadata": {},
     "output_type": "display_data"
    }
   ],
   "source": [
    "# evaluate the trained model on test dataset\n",
    "test_loss, test_acc = model.evaluate(X_test, y_test, verbose=2)\n",
    "\n",
    "# Plot the training accuracy vs. validation accuracy to visualize performance\n",
    "plt.plot(history.history[\"accuracy\"], label=\"Training Accuracy\")\n",
    "plt.plot(history.history[\"val_accuracy\"], label=\"Validation Accuracy\")\n",
    "plt.xlabel(\"Epoch\")  # Label x-axis as \"Epoch\"\n",
    "plt.ylabel(\"Accuracy\")  # Label y-axis as \"Accuracy\"\n",
    "plt.ylim([0.5, 1])  # Set y-axis range from 0.5 to 1 for better visualization\n",
    "plt.legend(loc=\"lower right\")  # Add legend in lower-right corner\n",
    "plt.show()  # Display the plot"
   ]
  },
  {
   "cell_type": "code",
   "execution_count": null,
   "id": "99b1bfef-bd38-4b8e-aa82-a86c9152a81e",
   "metadata": {},
   "outputs": [],
   "source": [
    "# Results:\n",
    "#\n",
    "# With a final test accuracy of about 98.54%, the CNN model achieves a really good \n",
    "# accuracy on unseen test images. Compared to the CNN model example and it's low\n",
    "# accuracy of about 71.66%, I am not completely sure why this one is able to get\n",
    "# a higher accuracy. Perhaps the one-hot encoding helped."
   ]
  }
 ],
 "metadata": {
  "kernelspec": {
   "display_name": "Python 3 (ipykernel)",
   "language": "python",
   "name": "python3"
  },
  "language_info": {
   "codemirror_mode": {
    "name": "ipython",
    "version": 3
   },
   "file_extension": ".py",
   "mimetype": "text/x-python",
   "name": "python",
   "nbconvert_exporter": "python",
   "pygments_lexer": "ipython3",
   "version": "3.12.7"
  }
 },
 "nbformat": 4,
 "nbformat_minor": 5
}
