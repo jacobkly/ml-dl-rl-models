{
 "cells": [
  {
   "cell_type": "code",
   "execution_count": 1,
   "id": "2d0550c5-f3f4-4b61-a33a-7afa53956cb0",
   "metadata": {},
   "outputs": [],
   "source": [
    "# import necessary libraries\n",
    "import pandas as pd\n",
    "import numpy as np\n",
    "from kmodes.kmodes import KModes\n",
    "from sklearn.metrics import adjusted_rand_score, silhouette_score  "
   ]
  },
  {
   "cell_type": "code",
   "execution_count": 2,
   "id": "cdc0d5c8-db4a-4dd4-a817-e23d96e723a9",
   "metadata": {},
   "outputs": [
    {
     "name": "stdout",
     "output_type": "stream",
     "text": [
      "   Erythema  Scathing  Definite Borders  Itching  Koebner   Polygonal  \\\n",
      "0         2         2                 0        3         0          0   \n",
      "1         3         3                 3        2         1          0   \n",
      "2         2         1                 2        3         1          3   \n",
      "3         2         2                 2        0         0          0   \n",
      "4         2         3                 2        2         2          2   \n",
      "\n",
      "   Follicular  Oral  Knee  Scalp  ...  Disapperance  Vacuolisation  \\\n",
      "0           0     0     1      0  ...             0              0   \n",
      "1           0     0     1      1  ...             0              0   \n",
      "2           0     3     0      0  ...             0              2   \n",
      "3           0     0     3      2  ...             3              0   \n",
      "4           0     2     0      0  ...             2              3   \n",
      "\n",
      "   Spongiosis  Retes  Follicular.1  Perifollicular  Inflamatory  Band-like  \\\n",
      "0           3      0             0               0            1          0   \n",
      "1           0      0             0               0            1          0   \n",
      "2           3      2             0               0            2          3   \n",
      "3           0      0             0               0            3          0   \n",
      "4           2      3             0               0            2          3   \n",
      "\n",
      "   Age  Disease  \n",
      "0  3.0        2  \n",
      "1  2.0        1  \n",
      "2  1.0        3  \n",
      "3  2.0        1  \n",
      "4  2.0        3  \n",
      "\n",
      "[5 rows x 35 columns]\n"
     ]
    }
   ],
   "source": [
    "# load the dataset into a pandas DataFrame\n",
    "df = pd.read_csv('dermatology.csv', delimiter='\\t')\n",
    "\n",
    "# convert 'Age' column to numeric for prepare categorization\n",
    "df['Age'] = pd.to_numeric(df['Age'], errors='coerce')\n",
    "\n",
    "# categorize the 'Age' column as age is continuous\n",
    "for i in range(len(df)):\n",
    "    age = df.iloc[i]['Age']\n",
    "    \n",
    "    if age == '?':\n",
    "        df.iloc[i, df.columns.get_loc('Age')] = None \n",
    "        continue\n",
    "        \n",
    "    category = 0\n",
    "    if 18 < age <= 35:\n",
    "        category = 1\n",
    "    elif age <= 50:\n",
    "        category = 2\n",
    "    elif age <= 65:\n",
    "        category = 3\n",
    "    elif age <= 125:\n",
    "        category = 4\n",
    "    df.iloc[i, df.columns.get_loc('Age')] = category\n",
    "\n",
    "# clean the dataset for missing and NaN values\n",
    "df = df.dropna()\n",
    "\n",
    "# print the first five entries\n",
    "print(df.head())"
   ]
  },
  {
   "cell_type": "code",
   "execution_count": 3,
   "id": "8c6042e2-9386-4c5d-ac94-d8a9391fb7f6",
   "metadata": {},
   "outputs": [
    {
     "name": "stdout",
     "output_type": "stream",
     "text": [
      "Init: initializing centroids\n",
      "Init: initializing clusters\n",
      "Starting iterations...\n",
      "Run 1, iteration: 1/100, moves: 134, cost: 3062.0\n",
      "Run 1, iteration: 2/100, moves: 44, cost: 3025.0\n",
      "Run 1, iteration: 3/100, moves: 8, cost: 3018.0\n",
      "Run 1, iteration: 4/100, moves: 10, cost: 3010.0\n",
      "Run 1, iteration: 5/100, moves: 2, cost: 3010.0\n",
      "Init: initializing centroids\n",
      "Init: initializing clusters\n",
      "Starting iterations...\n",
      "Run 2, iteration: 1/100, moves: 144, cost: 3241.0\n",
      "Run 2, iteration: 2/100, moves: 29, cost: 3241.0\n",
      "Init: initializing centroids\n",
      "Init: initializing clusters\n",
      "Starting iterations...\n",
      "Run 3, iteration: 1/100, moves: 135, cost: 3002.0\n",
      "Run 3, iteration: 2/100, moves: 38, cost: 2935.0\n",
      "Run 3, iteration: 3/100, moves: 15, cost: 2919.0\n",
      "Run 3, iteration: 4/100, moves: 11, cost: 2915.0\n",
      "Run 3, iteration: 5/100, moves: 10, cost: 2911.0\n",
      "Run 3, iteration: 6/100, moves: 0, cost: 2911.0\n",
      "Init: initializing centroids\n",
      "Init: initializing clusters\n",
      "Starting iterations...\n",
      "Run 4, iteration: 1/100, moves: 126, cost: 3252.0\n",
      "Run 4, iteration: 2/100, moves: 29, cost: 3250.0\n",
      "Run 4, iteration: 3/100, moves: 2, cost: 3250.0\n",
      "Init: initializing centroids\n",
      "Init: initializing clusters\n",
      "Starting iterations...\n",
      "Run 5, iteration: 1/100, moves: 74, cost: 3048.0\n",
      "Run 5, iteration: 2/100, moves: 19, cost: 3038.0\n",
      "Run 5, iteration: 3/100, moves: 2, cost: 3038.0\n",
      "Init: initializing centroids\n",
      "Init: initializing clusters\n",
      "Starting iterations...\n",
      "Run 6, iteration: 1/100, moves: 83, cost: 2978.0\n",
      "Run 6, iteration: 2/100, moves: 17, cost: 2973.0\n",
      "Run 6, iteration: 3/100, moves: 0, cost: 2973.0\n",
      "Init: initializing centroids\n",
      "Init: initializing clusters\n",
      "Starting iterations...\n",
      "Run 7, iteration: 1/100, moves: 98, cost: 2952.0\n",
      "Run 7, iteration: 2/100, moves: 46, cost: 2936.0\n",
      "Run 7, iteration: 3/100, moves: 4, cost: 2936.0\n",
      "Init: initializing centroids\n",
      "Init: initializing clusters\n",
      "Starting iterations...\n",
      "Run 8, iteration: 1/100, moves: 93, cost: 3292.0\n",
      "Run 8, iteration: 2/100, moves: 7, cost: 3292.0\n",
      "Init: initializing centroids\n",
      "Init: initializing clusters\n",
      "Starting iterations...\n",
      "Run 9, iteration: 1/100, moves: 82, cost: 2935.0\n",
      "Run 9, iteration: 2/100, moves: 13, cost: 2928.0\n",
      "Run 9, iteration: 3/100, moves: 0, cost: 2928.0\n",
      "Init: initializing centroids\n",
      "Init: initializing clusters\n",
      "Starting iterations...\n",
      "Run 10, iteration: 1/100, moves: 56, cost: 2953.0\n",
      "Run 10, iteration: 2/100, moves: 6, cost: 2953.0\n",
      "Best run was number 3\n"
     ]
    }
   ],
   "source": [
    "# initialize the K-Modes model with 6 clusters\n",
    "kmode = KModes(n_clusters=6, init='random', n_init=10, verbose=1)\n",
    "\n",
    "# fit the model and predict clusters\n",
    "clusters = kmode.fit_predict(df)\n",
    "\n",
    "# insert the cluster labels into the dataset\n",
    "df.insert(0, 'Cluster', clusters, True)"
   ]
  },
  {
   "cell_type": "code",
   "execution_count": 4,
   "id": "e6943e13-4797-4cb2-86b6-0986d0a1f5b0",
   "metadata": {},
   "outputs": [
    {
     "name": "stdout",
     "output_type": "stream",
     "text": [
      "Adjusted Rand Index for K-Modes: 0.8777083879920334\n",
      "Silhouette Score for K-Modes: 0.2550818782988355\n"
     ]
    }
   ],
   "source": [
    "# extract true labels\n",
    "true_labels = df['Disease'].values\n",
    "\n",
    "# calculate and print ARI for K-Modes\n",
    "ari = adjusted_rand_score(true_labels, clusters)\n",
    "print(f'Adjusted Rand Index for K-Modes: {ari}')\n",
    "\n",
    "# calculate and print Silhouette Score for K-Modes\n",
    "silhouette = silhouette_score(df.drop(['Cluster'], axis=1), clusters)\n",
    "print(f'Silhouette Score for K-Modes: {silhouette}')"
   ]
  },
  {
   "cell_type": "code",
   "execution_count": null,
   "id": "372d778a-6215-45a5-a10a-fbf2855ea3a9",
   "metadata": {},
   "outputs": [],
   "source": []
  }
 ],
 "metadata": {
  "kernelspec": {
   "display_name": "Python 3 (ipykernel)",
   "language": "python",
   "name": "python3"
  },
  "language_info": {
   "codemirror_mode": {
    "name": "ipython",
    "version": 3
   },
   "file_extension": ".py",
   "mimetype": "text/x-python",
   "name": "python",
   "nbconvert_exporter": "python",
   "pygments_lexer": "ipython3",
   "version": "3.12.7"
  }
 },
 "nbformat": 4,
 "nbformat_minor": 5
}
